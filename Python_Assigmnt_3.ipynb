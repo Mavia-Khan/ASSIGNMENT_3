{
 "cells": [
  {
   "cell_type": "code",
   "execution_count": 7,
   "metadata": {},
   "outputs": [
    {
     "name": "stdout",
     "output_type": "stream",
     "text": [
      "Twinkle,twinkle,little star,\n",
      "        How I wonder what you!\n",
      "                Up above the world so high,\n",
      "                Like a diamond in the sky.\n",
      "Twinkle,twinkle,little star,\n",
      "        How I wonder what you\n"
     ]
    }
   ],
   "source": [
    "print(\"Twinkle,twinkle,little star,\")\n",
    "print(\"        How I wonder what you!\")\n",
    "print(\"                Up above the world so high,\")\n",
    "print(\"                Like a diamond in the sky.\")\n",
    "print(\"Twinkle,twinkle,little star,\")\n",
    "print(\"        How I wonder what you\")\n"
   ]
  },
  {
   "cell_type": "code",
   "execution_count": 9,
   "metadata": {},
   "outputs": [
    {
     "name": "stdout",
     "output_type": "stream",
     "text": [
      "Python Version\n",
      "3.8.5 (default, Sep  3 2020, 21:29:08) [MSC v.1916 64 bit (AMD64)]\n"
     ]
    }
   ],
   "source": [
    "import sys\n",
    "print(\"Python Version\")\n",
    "print(sys.version)"
   ]
  },
  {
   "cell_type": "code",
   "execution_count": 11,
   "metadata": {},
   "outputs": [
    {
     "name": "stdout",
     "output_type": "stream",
     "text": [
      "Current Date and Time\n",
      "2021-10-26 01:01:14.590453\n"
     ]
    }
   ],
   "source": [
    "import datetime  \n",
    "print(\"Current Date and Time\")\n",
    "print(datetime.datetime.now())"
   ]
  },
  {
   "cell_type": "code",
   "execution_count": 20,
   "metadata": {},
   "outputs": [
    {
     "name": "stdout",
     "output_type": "stream",
     "text": [
      "Input the radius of the circle  2.2\n",
      "The area of the circle is 15.205308443374602\n"
     ]
    }
   ],
   "source": [
    "from math import pi\n",
    "radius=float(input(\"Input the radius of the circle  \"))\n",
    "print(\"The area of the circle is \"+str(pi*radius**2))\n"
   ]
  },
  {
   "cell_type": "code",
   "execution_count": 24,
   "metadata": {},
   "outputs": [
    {
     "name": "stdout",
     "output_type": "stream",
     "text": [
      "Enter the first name Mavia\n",
      "Enter the last name Alam\n",
      "Alam Mavia\n"
     ]
    }
   ],
   "source": [
    "firstName=input(\"Enter the first name \")\n",
    "lastName=input(\"Enter the last name \")\n",
    "print(lastName+\" \"+firstName)"
   ]
  },
  {
   "cell_type": "code",
   "execution_count": 25,
   "metadata": {},
   "outputs": [
    {
     "name": "stdout",
     "output_type": "stream",
     "text": [
      "Enter first number3\n",
      "Enter second number2\n",
      "5\n"
     ]
    }
   ],
   "source": [
    "number1=int(input(\"Enter first number\"))\n",
    "number2=int(input(\"Enter second number\"))\n",
    "sum=number1+number2\n",
    "print(sum)"
   ]
  },
  {
   "cell_type": "code",
   "execution_count": 28,
   "metadata": {},
   "outputs": [
    {
     "name": "stdout",
     "output_type": "stream",
     "text": [
      "Enter the math number 81\n",
      "Enter the physics number 87\n",
      "Enter the statistic number 71\n",
      "Enter the crypto number 73\n",
      "Enter the Islamiat number 85\n",
      "B grade\n"
     ]
    }
   ],
   "source": [
    "math=int(input(\"Enter the math number \"))\n",
    "physics=int(input(\"Enter the physics number \"))\n",
    "statistic=int(input(\"Enter the statistic number \"))\n",
    "crypto=int(input(\"Enter the crypto number \"))\n",
    "Islamiat=int(input(\"Enter the Islamiat number \"))\n",
    "total=math+physics+statistic+crypto+Islamiat\n",
    "percentage=(total*100)/500\n",
    "if percentage<100 and percentage>=90:\n",
    "    print(\"A one grade\")\n",
    "elif percentage<90 and percentage>=80:\n",
    "    print(\"A grade\")\n",
    "elif percentage<80 and percentage>=70:\n",
    "    print(\"B grade\")\n",
    "elif percentage<70 and percentage>=60:\n",
    "    print(\"C grade\")\n",
    "elif percentage<60 and percentage>=50:\n",
    "    print(\"D grade\")\n",
    "elif percentage<50 and percentage>=33:\n",
    "    print(\"E grade\")\n",
    "else:\n",
    "    print(\"Fail\")"
   ]
  },
  {
   "cell_type": "code",
   "execution_count": 32,
   "metadata": {},
   "outputs": [
    {
     "name": "stdout",
     "output_type": "stream",
     "text": [
      "Enter the number 7\n",
      "odd\n"
     ]
    }
   ],
   "source": [
    "number=int(input(\"Enter the number \"))\n",
    "if number%2==0:\n",
    "    print(\"even\")\n",
    "else:\n",
    "    print(\"odd\")\n",
    "    "
   ]
  },
  {
   "cell_type": "code",
   "execution_count": 43,
   "metadata": {},
   "outputs": [
    {
     "name": "stdout",
     "output_type": "stream",
     "text": [
      "Length of the list is  4\n"
     ]
    }
   ],
   "source": [
    "lst=[\"mavia\",\"khan\",7,2.2]\n",
    "print(\"Length of the list is \",len(lst))"
   ]
  },
  {
   "cell_type": "code",
   "execution_count": 75,
   "metadata": {},
   "outputs": [
    {
     "name": "stdout",
     "output_type": "stream",
     "text": [
      "27\n"
     ]
    }
   ],
   "source": [
    "def sumlst(num):      ##q10\n",
    "    sum=0\n",
    "    for x in num:\n",
    "        sum+=x\n",
    "    return sum\n",
    "print(sumlst([2,5,3,8,9]))\n"
   ]
  },
  {
   "cell_type": "code",
   "execution_count": 76,
   "metadata": {},
   "outputs": [
    {
     "name": "stdout",
     "output_type": "stream",
     "text": [
      "The largest number of the list is  117\n"
     ]
    }
   ],
   "source": [
    "largestLst=[2,99,31,117]   ##q11\n",
    "print(\"The largest number of the list is \",max(largestLst))"
   ]
  },
  {
   "cell_type": "code",
   "execution_count": 77,
   "metadata": {},
   "outputs": [
    {
     "name": "stdout",
     "output_type": "stream",
     "text": [
      "1\n",
      "1\n",
      "2\n",
      "3\n"
     ]
    }
   ],
   "source": [
    "a = [1, 1, 2, 3, 5, 8, 13, 21, 34, 55, 89]   ##q12\n",
    "for i in  a:\n",
    "    if i<5:\n",
    "        print(i)"
   ]
  },
  {
   "cell_type": "code",
   "execution_count": null,
   "metadata": {},
   "outputs": [],
   "source": []
  }
 ],
 "metadata": {
  "kernelspec": {
   "display_name": "Python 3",
   "language": "python",
   "name": "python3"
  },
  "language_info": {
   "codemirror_mode": {
    "name": "ipython",
    "version": 3
   },
   "file_extension": ".py",
   "mimetype": "text/x-python",
   "name": "python",
   "nbconvert_exporter": "python",
   "pygments_lexer": "ipython3",
   "version": "3.8.5"
  }
 },
 "nbformat": 4,
 "nbformat_minor": 4
}
